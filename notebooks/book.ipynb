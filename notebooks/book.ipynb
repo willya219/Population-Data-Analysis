{
  "cells": [
    {
      "cell_type": "markdown",
      "metadata": {
        "id": "h-D_FDSiPbyD"
      },
      "source": [
        "# **Partie 0: Paramétrage**\n",
        "\n",
        "Pour cette exploration nous allons utiliser le langage python pour faire la partie démonstration en code. Python étant déjà disponible sur Colab, nous il nous reste à importer notre jeu de données (Titanic.csv) via le code suivant:"
      ]
    },
    {
      "cell_type": "code",
      "execution_count": null,
      "metadata": {
        "colab": {
          "base_uri": "https://localhost:8080/"
        },
        "collapsed": true,
        "id": "fFHFFzIIQKqZ",
        "outputId": "d47d4b41-f418-4af3-a39d-c8769131b3ff"
      },
      "outputs": [
        {
          "name": "stdout",
          "output_type": "stream",
          "text": [
            "--2024-11-21 20:56:24--  https://drive.google.com/uc?export=download&id=1ySf1uy52ErAt7WhJb2Y61jr4F_wo88rs\n",
            "Resolving drive.google.com (drive.google.com)... 74.125.197.113, 74.125.197.100, 74.125.197.138, ...\n",
            "Connecting to drive.google.com (drive.google.com)|74.125.197.113|:443... connected.\n",
            "HTTP request sent, awaiting response... 303 See Other\n",
            "Location: https://drive.usercontent.google.com/download?id=1ySf1uy52ErAt7WhJb2Y61jr4F_wo88rs&export=download [following]\n",
            "--2024-11-21 20:56:24--  https://drive.usercontent.google.com/download?id=1ySf1uy52ErAt7WhJb2Y61jr4F_wo88rs&export=download\n",
            "Resolving drive.usercontent.google.com (drive.usercontent.google.com)... 172.253.117.132, 2607:f8b0:400e:c0a::84\n",
            "Connecting to drive.usercontent.google.com (drive.usercontent.google.com)|172.253.117.132|:443... connected.\n",
            "HTTP request sent, awaiting response... 200 OK\n",
            "Length: 3145129 (3.0M) [application/octet-stream]\n",
            "Saving to: ‘Titanic.csv’\n",
            "\n",
            "Titanic.csv         100%[===================>]   3.00M  --.-KB/s    in 0.06s   \n",
            "\n",
            "2024-11-21 20:56:27 (52.5 MB/s) - ‘Titanic.csv’ saved [3145129/3145129]\n",
            "\n"
          ]
        }
      ],
      "source": [
        "#Cela peut prendre un peu de temps\n",
        "!wget --no-check-certificate 'https://drive.google.com/uc?export=download&id=1ySf1uy52ErAt7WhJb2Y61jr4F_wo88rs' -O Titanic.csv"
      ]
    },
    {
      "cell_type": "markdown",
      "metadata": {
        "id": "vFMVL72lRXzE"
      },
      "source": [
        "Nous allons maintenant passer notre jeu de données en dataframes Pandas (df) afin de pouvoir mieux l'exploiter:"
      ]
    },
    {
      "cell_type": "code",
      "execution_count": null,
      "metadata": {
        "id": "X8uL0WR5R3QD"
      },
      "outputs": [],
      "source": [
        "import pandas as pd\n",
        "\n",
        "# Cargar el archivo CSV en un dataframe\n",
        "df = pd.read_csv('Titanic.csv')"
      ]
    },
    {
      "cell_type": "markdown",
      "metadata": {
        "id": "ZNw6bQ6dTYmb"
      },
      "source": [
        "Affichons les 10 premières lignes pour nous assurer que tout est bon"
      ]
    },
    {
      "cell_type": "code",
      "execution_count": null,
      "metadata": {
        "colab": {
          "base_uri": "https://localhost:8080/"
        },
        "collapsed": true,
        "id": "vG3TZLXzTzE4",
        "outputId": "a5fe2a52-9ddd-47bd-e6fe-f6343b1b56fa"
      },
      "outputs": [
        {
          "name": "stdout",
          "output_type": "stream",
          "text": [
            "       age  classe.travail    education  nombre.education   etat.civil        occupation     Lien.parente       race       sexe  heures.par.semaine    pays.natal    salaire\n",
            "        90               ?      HS-grad                 9         Veuf                 ? Pas_dans_famille      Blanc    Feminin                  40 United-States      <=50K\n",
            "        82          Privee      HS-grad                 9         Veuf   Exec-managerial Pas_dans_famille      Blanc    Feminin                  18 United-States      <=50K\n",
            "        66               ? Some-college                10         Veuf                 ?      Celibataire       Noir    Feminin                  40 United-States      <=50K\n",
            "        54          Privee      7th-8th                 4      Divorce Machine-op-inspct      Celibataire      Blanc    Feminin                  40 United-States      <=50K\n",
            "        41          Privee Some-college                10       Separe    Prof-specialty        Un_enfant      Blanc    Feminin                  40 United-States      <=50K\n",
            "        34          Privee      HS-grad                 9      Divorce     Other-service      Celibataire      Blanc    Feminin                  45 United-States      <=50K\n",
            "        38          Privee         10th                 6       Separe      Adm-clerical      Celibataire      Blanc   Masculin                  40 United-States      <=50K\n",
            "        74 Gouv-Provincial    Doctorate                16 Jamais_marie    Prof-specialty            Autre      Blanc    Feminin                  20 United-States       >50K\n",
            "        68    Gouv-Federal      HS-grad                 9      Divorce    Prof-specialty Pas_dans_famille      Blanc    Feminin                  40 United-States      <=50K\n",
            "        41          Privee Some-college                10 Jamais_marie      Craft-repair      Celibataire      Blanc   Masculin                  60             ?       >50K\n"
          ]
        }
      ],
      "source": [
        "#Affichage des 10 premières lignes\n",
        "print(df.head(10).to_string(index=False, justify='right',col_space=10, max_colwidth=100))"
      ]
    },
    {
      "cell_type": "markdown",
      "metadata": {
        "id": "Etl9SBczXrL_"
      },
      "source": [
        "---\n",
        "\n",
        "\n",
        "# **Partie 1: Étude exploratoire**\n",
        "\n",
        "\n",
        "\n",
        "1.1. Nombre de personnes travaillant dans le privé"
      ]
    },
    {
      "cell_type": "code",
      "execution_count": null,
      "metadata": {
        "colab": {
          "base_uri": "https://localhost:8080/"
        },
        "id": "4J-VUihNYYtV",
        "outputId": "a041431c-39fd-453c-bc12-df4bb5572a9c"
      },
      "outputs": [
        {
          "data": {
            "text/plain": [
              "22696"
            ]
          },
          "execution_count": 4,
          "metadata": {},
          "output_type": "execute_result"
        }
      ],
      "source": [
        "df.loc[df['classe.travail'] == 'Privee'].shape[0]"
      ]
    },
    {
      "cell_type": "markdown",
      "metadata": {
        "id": "TQFXPc5MdTRK"
      },
      "source": [
        "1.2. Liste des pays d’origine des femmes dans ce jeux de données"
      ]
    },
    {
      "cell_type": "code",
      "execution_count": null,
      "metadata": {
        "colab": {
          "base_uri": "https://localhost:8080/",
          "height": 1000
        },
        "id": "sec7khdvdqSS",
        "outputId": "98344e88-37f0-4f35-fd30-a77982c610e2"
      },
      "outputs": [
        {
          "data": {
            "text/html": [
              "<div>\n",
              "<style scoped>\n",
              "    .dataframe tbody tr th:only-of-type {\n",
              "        vertical-align: middle;\n",
              "    }\n",
              "\n",
              "    .dataframe tbody tr th {\n",
              "        vertical-align: top;\n",
              "    }\n",
              "\n",
              "    .dataframe thead th {\n",
              "        text-align: right;\n",
              "    }\n",
              "</style>\n",
              "<table border=\"1\" class=\"dataframe\">\n",
              "  <thead>\n",
              "    <tr style=\"text-align: right;\">\n",
              "      <th></th>\n",
              "      <th>count</th>\n",
              "    </tr>\n",
              "    <tr>\n",
              "      <th>pays.natal</th>\n",
              "      <th></th>\n",
              "    </tr>\n",
              "  </thead>\n",
              "  <tbody>\n",
              "    <tr>\n",
              "      <th>United-States</th>\n",
              "      <td>9682</td>\n",
              "    </tr>\n",
              "    <tr>\n",
              "      <th>?</th>\n",
              "      <td>163</td>\n",
              "    </tr>\n",
              "    <tr>\n",
              "      <th>Mexico</th>\n",
              "      <td>146</td>\n",
              "    </tr>\n",
              "    <tr>\n",
              "      <th>Philippines</th>\n",
              "      <td>73</td>\n",
              "    </tr>\n",
              "    <tr>\n",
              "      <th>Germany</th>\n",
              "      <td>60</td>\n",
              "    </tr>\n",
              "    <tr>\n",
              "      <th>Puerto-Rico</th>\n",
              "      <td>52</td>\n",
              "    </tr>\n",
              "    <tr>\n",
              "      <th>Jamaica</th>\n",
              "      <td>43</td>\n",
              "    </tr>\n",
              "    <tr>\n",
              "      <th>Cuba</th>\n",
              "      <td>40</td>\n",
              "    </tr>\n",
              "    <tr>\n",
              "      <th>Canada</th>\n",
              "      <td>39</td>\n",
              "    </tr>\n",
              "    <tr>\n",
              "      <th>Dominican-Republic</th>\n",
              "      <td>35</td>\n",
              "    </tr>\n",
              "    <tr>\n",
              "      <th>El-Salvador</th>\n",
              "      <td>35</td>\n",
              "    </tr>\n",
              "    <tr>\n",
              "      <th>England</th>\n",
              "      <td>32</td>\n",
              "    </tr>\n",
              "    <tr>\n",
              "      <th>South</th>\n",
              "      <td>30</td>\n",
              "    </tr>\n",
              "    <tr>\n",
              "      <th>Columbia</th>\n",
              "      <td>24</td>\n",
              "    </tr>\n",
              "    <tr>\n",
              "      <th>Vietnam</th>\n",
              "      <td>23</td>\n",
              "    </tr>\n",
              "    <tr>\n",
              "      <th>China</th>\n",
              "      <td>21</td>\n",
              "    </tr>\n",
              "    <tr>\n",
              "      <th>Italy</th>\n",
              "      <td>21</td>\n",
              "    </tr>\n",
              "    <tr>\n",
              "      <th>Guatemala</th>\n",
              "      <td>20</td>\n",
              "    </tr>\n",
              "    <tr>\n",
              "      <th>Haiti</th>\n",
              "      <td>20</td>\n",
              "    </tr>\n",
              "    <tr>\n",
              "      <th>Japan</th>\n",
              "      <td>20</td>\n",
              "    </tr>\n",
              "    <tr>\n",
              "      <th>Poland</th>\n",
              "      <td>19</td>\n",
              "    </tr>\n",
              "    <tr>\n",
              "      <th>Taiwan</th>\n",
              "      <td>15</td>\n",
              "    </tr>\n",
              "    <tr>\n",
              "      <th>Peru</th>\n",
              "      <td>14</td>\n",
              "    </tr>\n",
              "    <tr>\n",
              "      <th>Portugal</th>\n",
              "      <td>12</td>\n",
              "    </tr>\n",
              "    <tr>\n",
              "      <th>Nicaragua</th>\n",
              "      <td>12</td>\n",
              "    </tr>\n",
              "    <tr>\n",
              "      <th>France</th>\n",
              "      <td>12</td>\n",
              "    </tr>\n",
              "    <tr>\n",
              "      <th>India</th>\n",
              "      <td>11</td>\n",
              "    </tr>\n",
              "    <tr>\n",
              "      <th>Thailand</th>\n",
              "      <td>11</td>\n",
              "    </tr>\n",
              "    <tr>\n",
              "      <th>Trinadad&amp;Tobago</th>\n",
              "      <td>11</td>\n",
              "    </tr>\n",
              "    <tr>\n",
              "      <th>Ecuador</th>\n",
              "      <td>9</td>\n",
              "    </tr>\n",
              "    <tr>\n",
              "      <th>Iran</th>\n",
              "      <td>8</td>\n",
              "    </tr>\n",
              "    <tr>\n",
              "      <th>Laos</th>\n",
              "      <td>8</td>\n",
              "    </tr>\n",
              "    <tr>\n",
              "      <th>Ireland</th>\n",
              "      <td>7</td>\n",
              "    </tr>\n",
              "    <tr>\n",
              "      <th>Outlying-US(Guam-USVI-etc)</th>\n",
              "      <td>7</td>\n",
              "    </tr>\n",
              "    <tr>\n",
              "      <th>Honduras</th>\n",
              "      <td>7</td>\n",
              "    </tr>\n",
              "    <tr>\n",
              "      <th>Hungary</th>\n",
              "      <td>6</td>\n",
              "    </tr>\n",
              "    <tr>\n",
              "      <th>Hong</th>\n",
              "      <td>6</td>\n",
              "    </tr>\n",
              "    <tr>\n",
              "      <th>Scotland</th>\n",
              "      <td>5</td>\n",
              "    </tr>\n",
              "    <tr>\n",
              "      <th>Greece</th>\n",
              "      <td>5</td>\n",
              "    </tr>\n",
              "    <tr>\n",
              "      <th>Cambodia</th>\n",
              "      <td>3</td>\n",
              "    </tr>\n",
              "    <tr>\n",
              "      <th>Yugoslavia</th>\n",
              "      <td>3</td>\n",
              "    </tr>\n",
              "    <tr>\n",
              "      <th>Holand-Netherlands</th>\n",
              "      <td>1</td>\n",
              "    </tr>\n",
              "  </tbody>\n",
              "</table>\n",
              "</div><br><label><b>dtype:</b> int64</label>"
            ],
            "text/plain": [
              "pays.natal                \n",
              "United-States                 9682\n",
              "?                              163\n",
              "Mexico                         146\n",
              "Philippines                     73\n",
              "Germany                         60\n",
              "Puerto-Rico                     52\n",
              "Jamaica                         43\n",
              "Cuba                            40\n",
              "Canada                          39\n",
              "Dominican-Republic              35\n",
              "El-Salvador                     35\n",
              "England                         32\n",
              "South                           30\n",
              "Columbia                        24\n",
              "Vietnam                         23\n",
              "China                           21\n",
              "Italy                           21\n",
              "Guatemala                       20\n",
              "Haiti                           20\n",
              "Japan                           20\n",
              "Poland                          19\n",
              "Taiwan                          15\n",
              "Peru                            14\n",
              "Portugal                        12\n",
              "Nicaragua                       12\n",
              "France                          12\n",
              "India                           11\n",
              "Thailand                        11\n",
              "Trinadad&Tobago                 11\n",
              "Ecuador                          9\n",
              "Iran                             8\n",
              "Laos                             8\n",
              "Ireland                          7\n",
              "Outlying-US(Guam-USVI-etc)       7\n",
              "Honduras                         7\n",
              "Hungary                          6\n",
              "Hong                             6\n",
              "Scotland                         5\n",
              "Greece                           5\n",
              "Cambodia                         3\n",
              "Yugoslavia                       3\n",
              "Holand-Netherlands               1\n",
              "Name: count, dtype: int64"
            ]
          },
          "execution_count": 5,
          "metadata": {},
          "output_type": "execute_result"
        }
      ],
      "source": [
        "df.loc[df['sexe']=='Feminin',['pays.natal']].value_counts()"
      ]
    },
    {
      "cell_type": "markdown",
      "metadata": {
        "id": "MkmAe9JPiT2D"
      },
      "source": [
        "1.3. Le pourcentage d’hommes ayant un niveau éducatif HS-grad"
      ]
    },
    {
      "cell_type": "code",
      "execution_count": null,
      "metadata": {
        "colab": {
          "base_uri": "https://localhost:8080/"
        },
        "id": "yK6XcLSPioCh",
        "outputId": "4481955c-7b6d-4f37-a083-f76b68492399"
      },
      "outputs": [
        {
          "data": {
            "text/plain": [
              "32.634235888022026"
            ]
          },
          "execution_count": 15,
          "metadata": {},
          "output_type": "execute_result"
        }
      ],
      "source": [
        "df.loc[df['sexe']=='Masculin',['education']].value_counts(normalize=True)['HS-grad']*100"
      ]
    },
    {
      "cell_type": "markdown",
      "metadata": {
        "id": "lyvUBh9mpJeB"
      },
      "source": [
        "1.4. Les attributs pour lesquels il manque des valeurs et leur nombre d'attributs manquants **(on admettra que valeur manquante = \"?\")**."
      ]
    },
    {
      "cell_type": "code",
      "execution_count": null,
      "metadata": {
        "colab": {
          "base_uri": "https://localhost:8080/"
        },
        "id": "wAFfhJu8qEeg",
        "outputId": "b10e75c2-7691-41e0-9e2d-d665e22c5062"
      },
      "outputs": [
        {
          "name": "stdout",
          "output_type": "stream",
          "text": [
            "occupation        1843\n",
            "classe.travail    1836\n",
            "pays.natal         583\n",
            "dtype: int64\n"
          ]
        }
      ],
      "source": [
        "tab=df.apply(lambda x: (x == '?').sum())\n",
        "tab_valeur_manquante =tab[tab>0]\n",
        "x=tab_valeur_manquante.sort_values(ascending=False)\n",
        "\n",
        "print(x)"
      ]
    },
    {
      "cell_type": "code",
      "execution_count": null,
      "metadata": {
        "colab": {
          "base_uri": "https://localhost:8080/"
        },
        "id": "nFLCfjCE4bd0",
        "outputId": "13ce5375-235a-4288-fdf7-db77b94ac609"
      },
      "outputs": [
        {
          "name": "stdout",
          "output_type": "stream",
          "text": [
            "Attribut de valeurs manquantes maximales: occupation\n",
            "Attribut de valeurs manquantes minimales: pays.natal\n"
          ]
        }
      ],
      "source": [
        "print('Attribut de valeurs manquantes maximales: '+ x.idxmax())\n",
        "print('Attribut de valeurs manquantes minimales: '+ x.idxmin())"
      ]
    },
    {
      "cell_type": "markdown",
      "metadata": {
        "id": "5ldKoTyyxKok"
      },
      "source": [
        "1.5. Les valeurs la plus élevée et la moins élevée de l’attribut nombre d’années d’éducation ?"
      ]
    },
    {
      "cell_type": "code",
      "execution_count": null,
      "metadata": {
        "colab": {
          "base_uri": "https://localhost:8080/"
        },
        "id": "8Q2z5B13x8m2",
        "outputId": "ebf11b86-e1e8-4cc2-cd89-18ecbcbae305"
      },
      "outputs": [
        {
          "name": "stdout",
          "output_type": "stream",
          "text": [
            "La valeur minimale: 1\n",
            "La valeur maximale: 16\n"
          ]
        }
      ],
      "source": [
        "min_education = df['nombre.education'].min()\n",
        "max_education = df['nombre.education'].max()\n",
        "print(f\"La valeur minimale: {min_education}\")\n",
        "print(f\"La valeur maximale: {max_education}\")"
      ]
    },
    {
      "cell_type": "markdown",
      "metadata": {
        "id": "NMiAVfFXwrNW"
      },
      "source": [
        "---\n",
        "\n",
        "\n",
        "# **Partie 2: Statistiques et probabilités**\n",
        "\n",
        "Pour la suite, nous considérons le jeux de données complet ainsi qu’un échantillon dont la taille est 10% de la taille\n",
        "complète (3256 lignes). Récupérons notre échantillon (dff)"
      ]
    },
    {
      "cell_type": "code",
      "execution_count": null,
      "metadata": {
        "id": "NT60fsDMzQLH"
      },
      "outputs": [],
      "source": [
        "dff =  df.iloc[:3256]\n",
        "# dff.head(10)"
      ]
    },
    {
      "cell_type": "markdown",
      "metadata": {
        "id": "sRXoIrKh9aen"
      },
      "source": [
        "2.1. Les 3 valeurs du nombre d’années d’éducation les plus fréquentes."
      ]
    },
    {
      "cell_type": "code",
      "execution_count": null,
      "metadata": {
        "colab": {
          "base_uri": "https://localhost:8080/",
          "height": 209
        },
        "id": "K_7gkl209rd1",
        "outputId": "0c18510f-2338-463b-9b2b-f13c6f91f050"
      },
      "outputs": [
        {
          "data": {
            "text/html": [
              "<div>\n",
              "<style scoped>\n",
              "    .dataframe tbody tr th:only-of-type {\n",
              "        vertical-align: middle;\n",
              "    }\n",
              "\n",
              "    .dataframe tbody tr th {\n",
              "        vertical-align: top;\n",
              "    }\n",
              "\n",
              "    .dataframe thead th {\n",
              "        text-align: right;\n",
              "    }\n",
              "</style>\n",
              "<table border=\"1\" class=\"dataframe\">\n",
              "  <thead>\n",
              "    <tr style=\"text-align: right;\">\n",
              "      <th></th>\n",
              "      <th>count</th>\n",
              "    </tr>\n",
              "    <tr>\n",
              "      <th>nombre.education</th>\n",
              "      <th></th>\n",
              "    </tr>\n",
              "  </thead>\n",
              "  <tbody>\n",
              "    <tr>\n",
              "      <th>13</th>\n",
              "      <td>845</td>\n",
              "    </tr>\n",
              "    <tr>\n",
              "      <th>9</th>\n",
              "      <td>731</td>\n",
              "    </tr>\n",
              "    <tr>\n",
              "      <th>10</th>\n",
              "      <td>552</td>\n",
              "    </tr>\n",
              "  </tbody>\n",
              "</table>\n",
              "</div><br><label><b>dtype:</b> int64</label>"
            ],
            "text/plain": [
              "nombre.education\n",
              "13    845\n",
              "9     731\n",
              "10    552\n",
              "Name: count, dtype: int64"
            ]
          },
          "execution_count": 14,
          "metadata": {},
          "output_type": "execute_result"
        }
      ],
      "source": [
        "dff['nombre.education'].value_counts().head(3).sort_values(ascending=False)"
      ]
    },
    {
      "cell_type": "markdown",
      "metadata": {
        "id": "c1nuXxNCcYBB"
      },
      "source": [
        "2.2. Moyenne des nombre d’années d’éducation et la médiane:"
      ]
    },
    {
      "cell_type": "code",
      "execution_count": null,
      "metadata": {
        "colab": {
          "base_uri": "https://localhost:8080/"
        },
        "id": "czJ3Tr9Acf8Y",
        "outputId": "9f38291f-73b4-4290-e5ae-ac5761cc2e63"
      },
      "outputs": [
        {
          "name": "stdout",
          "output_type": "stream",
          "text": [
            "Moyenne : 11.430896805896806\n",
            "Médiane : 12.0\n"
          ]
        }
      ],
      "source": [
        "# Calculer la moyenne et la médiane pour l'échantillon\n",
        "mean = dff['nombre.education'].mean()\n",
        "median = dff['nombre.education'].median()\n",
        "\n",
        "print(f\"Moyenne : {mean}\")\n",
        "print(f\"Médiane : {median}\")"
      ]
    },
    {
      "cell_type": "markdown",
      "metadata": {
        "id": "X1wtcDEXdifa"
      },
      "source": [
        "2.3.   Pays ayant les moyennes des âges de leurs ressortissants les plus élevées ?\n"
      ]
    },
    {
      "cell_type": "code",
      "execution_count": null,
      "metadata": {
        "colab": {
          "base_uri": "https://localhost:8080/",
          "height": 791
        },
        "id": "qa9sF0kAedg8",
        "outputId": "a308486d-b93b-4aca-9ac3-81eefeb1b6d4"
      },
      "outputs": [
        {
          "name": "stdout",
          "output_type": "stream",
          "text": [
            "Age moyenne =  43.567567567567565\n"
          ]
        },
        {
          "data": {
            "text/html": [
              "<div>\n",
              "<style scoped>\n",
              "    .dataframe tbody tr th:only-of-type {\n",
              "        vertical-align: middle;\n",
              "    }\n",
              "\n",
              "    .dataframe tbody tr th {\n",
              "        vertical-align: top;\n",
              "    }\n",
              "\n",
              "    .dataframe thead th {\n",
              "        text-align: right;\n",
              "    }\n",
              "</style>\n",
              "<table border=\"1\" class=\"dataframe\">\n",
              "  <thead>\n",
              "    <tr style=\"text-align: right;\">\n",
              "      <th></th>\n",
              "      <th>age</th>\n",
              "    </tr>\n",
              "    <tr>\n",
              "      <th>pays.natal</th>\n",
              "      <th></th>\n",
              "    </tr>\n",
              "  </thead>\n",
              "  <tbody>\n",
              "    <tr>\n",
              "      <th>Ecuador</th>\n",
              "      <td>90.000000</td>\n",
              "    </tr>\n",
              "    <tr>\n",
              "      <th>Hungary</th>\n",
              "      <td>69.000000</td>\n",
              "    </tr>\n",
              "    <tr>\n",
              "      <th>Yugoslavia</th>\n",
              "      <td>66.000000</td>\n",
              "    </tr>\n",
              "    <tr>\n",
              "      <th>Scotland</th>\n",
              "      <td>62.000000</td>\n",
              "    </tr>\n",
              "    <tr>\n",
              "      <th>Jamaica</th>\n",
              "      <td>60.000000</td>\n",
              "    </tr>\n",
              "    <tr>\n",
              "      <th>Columbia</th>\n",
              "      <td>57.000000</td>\n",
              "    </tr>\n",
              "    <tr>\n",
              "      <th>Poland</th>\n",
              "      <td>50.750000</td>\n",
              "    </tr>\n",
              "    <tr>\n",
              "      <th>Greece</th>\n",
              "      <td>50.000000</td>\n",
              "    </tr>\n",
              "    <tr>\n",
              "      <th>China</th>\n",
              "      <td>49.555556</td>\n",
              "    </tr>\n",
              "    <tr>\n",
              "      <th>Trinadad&amp;Tobago</th>\n",
              "      <td>49.500000</td>\n",
              "    </tr>\n",
              "    <tr>\n",
              "      <th>France</th>\n",
              "      <td>49.000000</td>\n",
              "    </tr>\n",
              "    <tr>\n",
              "      <th>Honduras</th>\n",
              "      <td>47.000000</td>\n",
              "    </tr>\n",
              "    <tr>\n",
              "      <th>El-Salvador</th>\n",
              "      <td>46.000000</td>\n",
              "    </tr>\n",
              "    <tr>\n",
              "      <th>Italy</th>\n",
              "      <td>45.600000</td>\n",
              "    </tr>\n",
              "    <tr>\n",
              "      <th>Guatemala</th>\n",
              "      <td>45.500000</td>\n",
              "    </tr>\n",
              "    <tr>\n",
              "      <th>Germany</th>\n",
              "      <td>45.071429</td>\n",
              "    </tr>\n",
              "    <tr>\n",
              "      <th>Vietnam</th>\n",
              "      <td>44.833333</td>\n",
              "    </tr>\n",
              "    <tr>\n",
              "      <th>India</th>\n",
              "      <td>44.533333</td>\n",
              "    </tr>\n",
              "    <tr>\n",
              "      <th>Cuba</th>\n",
              "      <td>44.000000</td>\n",
              "    </tr>\n",
              "    <tr>\n",
              "      <th>?</th>\n",
              "      <td>43.971831</td>\n",
              "    </tr>\n",
              "    <tr>\n",
              "      <th>Canada</th>\n",
              "      <td>43.882353</td>\n",
              "    </tr>\n",
              "  </tbody>\n",
              "</table>\n",
              "</div><br><label><b>dtype:</b> float64</label>"
            ],
            "text/plain": [
              "pays.natal\n",
              "Ecuador            90.000000\n",
              "Hungary            69.000000\n",
              "Yugoslavia         66.000000\n",
              "Scotland           62.000000\n",
              "Jamaica            60.000000\n",
              "Columbia           57.000000\n",
              "Poland             50.750000\n",
              "Greece             50.000000\n",
              "China              49.555556\n",
              "Trinadad&Tobago    49.500000\n",
              "France             49.000000\n",
              "Honduras           47.000000\n",
              "El-Salvador        46.000000\n",
              "Italy              45.600000\n",
              "Guatemala          45.500000\n",
              "Germany            45.071429\n",
              "Vietnam            44.833333\n",
              "India              44.533333\n",
              "Cuba               44.000000\n",
              "?                  43.971831\n",
              "Canada             43.882353\n",
              "Name: age, dtype: float64"
            ]
          },
          "execution_count": 38,
          "metadata": {},
          "output_type": "execute_result"
        }
      ],
      "source": [
        "age_moyenne = dff['age'].mean()\n",
        "print('Age moyenne = ',age_moyenne)\n",
        "dff.groupby('pays.natal')['age'].mean().loc[lambda x: x > age_moyenne].sort_values(ascending=False)"
      ]
    },
    {
      "cell_type": "markdown",
      "metadata": {
        "id": "4asy9DnNf0Ag"
      },
      "source": [
        "2.4.  % des femmes ayant une maîtrise avec un salaire >50K et des hommes"
      ]
    },
    {
      "cell_type": "code",
      "execution_count": null,
      "metadata": {
        "colab": {
          "base_uri": "https://localhost:8080/"
        },
        "id": "qJ-mrCFOfylJ",
        "outputId": "31387623-49e7-4d1a-f331-a9a7bc426115"
      },
      "outputs": [
        {
          "name": "stdout",
          "output_type": "stream",
          "text": [
            "Pourcentage des femmes ayant une maîtrise et un salaire >50K: 67.61904761904762\n",
            "Pourcentage des hommes ayant une maîtrise et un salaire >50K: 90.9090909090909\n"
          ]
        }
      ],
      "source": [
        "pWomen = len(dff[(dff['sexe']=='Feminin')& (dff['salaire']=='>50K') & (dff['education']=='Masters')])/len(dff[(dff['sexe']=='Feminin')& (dff['education']=='Masters')])*100\n",
        "pMen = len(dff[(dff['sexe']=='Masculin')& (dff['salaire']=='>50K') & (dff['education']=='Masters')])/len(dff[(dff['sexe']=='Masculin')& (dff['education']=='Masters')])*100\n",
        "\n",
        "print(f\"Pourcentage des femmes ayant une maîtrise et un salaire >50K: {pWomen}\")\n",
        "print(f\"Pourcentage des hommes ayant une maîtrise et un salaire >50K: {pMen}\")"
      ]
    },
    {
      "cell_type": "markdown",
      "metadata": {
        "id": "eqrOQatGj0b1"
      },
      "source": [
        "2.5.  % des personnes ne vivant pas en famille avec un diplôme universitaire (baccalauréat, maîtrise ou\n",
        "doctorat) ?"
      ]
    },
    {
      "cell_type": "code",
      "execution_count": null,
      "metadata": {
        "colab": {
          "base_uri": "https://localhost:8080/"
        },
        "id": "8RXSxXFDkoP2",
        "outputId": "9e8aa18f-2eff-4c26-abd3-9229dc675d6c"
      },
      "outputs": [
        {
          "data": {
            "text/plain": [
              "44.88549618320611"
            ]
          },
          "execution_count": 40,
          "metadata": {},
          "output_type": "execute_result"
        }
      ],
      "source": [
        "len(dff[(dff['Lien.parente']=='Pas_dans_famille') & (dff['education'].isin(['Doctorate','Masters','Bachelors']))])/len(dff[(dff['Lien.parente']=='Pas_dans_famille')])*100"
      ]
    },
    {
      "cell_type": "markdown",
      "metadata": {
        "id": "xg4jX5HGnw22"
      },
      "source": [
        "2.6. Race a la proportion la plus élevée de salaires ≤50K"
      ]
    },
    {
      "cell_type": "code",
      "execution_count": null,
      "metadata": {
        "colab": {
          "base_uri": "https://localhost:8080/"
        },
        "id": "o96iO-OEnv8r",
        "outputId": "a842da00-d623-42be-a70d-9f9ab79e8f2a"
      },
      "outputs": [
        {
          "name": "stdout",
          "output_type": "stream",
          "text": [
            "salaire         <=50K      >50K\n",
            "race                           \n",
            "Ameriendien  0.350000  0.650000\n",
            "Asiatique    0.268519  0.731481\n",
            "Autre        0.529412  0.470588\n",
            "Blanc        0.283798  0.716202\n",
            "Noir         0.411765  0.588235\n",
            "Race avec la proportion la plus élevée de salaires ≤50K: Autre\n",
            "Race avec la proportion la plus élevée de salaires >50K: Asiatique\n"
          ]
        }
      ],
      "source": [
        "subset_df_race_salary_counts = dff.groupby(['race', 'salaire']).size().unstack()\n",
        "\n",
        "subset_df_race_salary_proportion = subset_df_race_salary_counts.div(subset_df_race_salary_counts.sum(axis=1), axis=0)\n",
        "\n",
        "print(subset_df_race_salary_proportion)\n",
        "max_race_salary_le_50k = subset_df_race_salary_proportion['<=50K'].idxmax()\n",
        "max_race_salary_gt_50k = subset_df_race_salary_proportion['>50K'].idxmax()\n",
        "\n",
        "print(f\"Race avec la proportion la plus élevée de salaires ≤50K: {max_race_salary_le_50k}\")\n",
        "print(f\"Race avec la proportion la plus élevée de salaires >50K: {max_race_salary_gt_50k}\")\n",
        "\n"
      ]
    },
    {
      "cell_type": "markdown",
      "metadata": {
        "id": "U5Ab67uk5Vn0"
      },
      "source": [
        "2.7. Vérification de la différence des salaires des hommes mariées et les hommes ne vivant pas en famille  (test de chi carré)"
      ]
    },
    {
      "cell_type": "code",
      "execution_count": null,
      "metadata": {
        "colab": {
          "base_uri": "https://localhost:8080/"
        },
        "id": "q4FxB7Wi51P3",
        "outputId": "210a4a4a-f02a-4b47-bc09-f62ac56ff07c"
      },
      "outputs": [
        {
          "name": "stdout",
          "output_type": "stream",
          "text": [
            "Population 1988\n",
            "Répartition salaire\n",
            ">50K       0.841549\n",
            "<=50K      0.158451\n",
            "Name: proportion, dtype: float64\n"
          ]
        }
      ],
      "source": [
        "#Calcul de la population et de la répartition des salaires chez les hommes mariés\n",
        "print('Population',dff.loc[(dff['sexe']=='Masculin') & (dff['Lien.parente']=='Mari'),['salaire']].shape[0])\n",
        "print('Répartition',dff.loc[(dff['sexe']=='Masculin') & (dff['Lien.parente']=='Mari'),['salaire']].value_counts(normalize=True))\n"
      ]
    },
    {
      "cell_type": "code",
      "execution_count": null,
      "metadata": {
        "colab": {
          "base_uri": "https://localhost:8080/"
        },
        "id": "BrgvaEO8--WZ",
        "outputId": "35a157f4-b819-4169-cd3c-881cca7f2504"
      },
      "outputs": [
        {
          "name": "stdout",
          "output_type": "stream",
          "text": [
            "Population 395\n",
            "Répartition salaire\n",
            ">50K       0.516456\n",
            "<=50K      0.483544\n",
            "Name: proportion, dtype: float64\n"
          ]
        }
      ],
      "source": [
        "#Calcul de la population et de la répartition des salaires chez les hommes ne vivant pas en famille\n",
        "print('Population',dff.loc[(dff['sexe']=='Masculin') & (dff['Lien.parente']=='Pas_dans_famille'),['salaire']].shape[0])\n",
        "print('Répartition',dff.loc[(dff['sexe']=='Masculin') & (dff['Lien.parente']=='Pas_dans_famille'),['salaire']].value_counts(normalize=True))"
      ]
    },
    {
      "cell_type": "code",
      "execution_count": null,
      "metadata": {
        "colab": {
          "base_uri": "https://localhost:8080/"
        },
        "id": "_Gd2SzORGxhw",
        "outputId": "11b03783-4741-4897-ed09-2072af6b4ca7"
      },
      "outputs": [
        {
          "name": "stdout",
          "output_type": "stream",
          "text": [
            "Tableau de contingence observée :\n",
            "[[1672.999412  315.000588]\n",
            " [ 204.00012   190.99988 ]]\n",
            "\n",
            "Tableau de contingence attendu :\n",
            "[[1565.87287856  422.12712144]\n",
            " [ 311.12665344   83.87334656]]\n",
            "\n",
            "Valeur du chi-deux : 206.28808698398385\n",
            "Degrés de liberté : 1\n",
            "P-value : 8.866121938976983e-47\n",
            "\n",
            "Conclusion : On rejette l'hypothèse nulle. Il y a une différence significative dans la répartition des salaires entre les hommes mariés et les hommes seuls.\n"
          ]
        }
      ],
      "source": [
        "import numpy as np\n",
        "import scipy.stats as stats\n",
        "\n",
        "# Données fournies\n",
        "population_hommes_maries = 1988\n",
        "population_hommes_seuls = 395\n",
        "\n",
        "# Répartition des salaires\n",
        "salaire_hommes_maries = {\n",
        "    '>50K': 0.841549,\n",
        "    '<=50K': 0.158451\n",
        "}\n",
        "\n",
        "salaire_hommes_seuls = {\n",
        "    '>50K': 0.516456,\n",
        "    '<=50K': 0.483544\n",
        "}\n",
        "\n",
        "# Calcul des fréquences observées\n",
        "observed_hommes_maries = [\n",
        "    population_hommes_maries * salaire_hommes_maries['>50K'],\n",
        "    population_hommes_maries * salaire_hommes_maries['<=50K']\n",
        "]\n",
        "\n",
        "observed_hommes_seuls = [\n",
        "    population_hommes_seuls * salaire_hommes_seuls['>50K'],\n",
        "    population_hommes_seuls * salaire_hommes_seuls['<=50K']\n",
        "]\n",
        "\n",
        "# Création du tableau de contingence\n",
        "observed = np.array([observed_hommes_maries, observed_hommes_seuls])\n",
        "\n",
        "# Test du chi-deux\n",
        "chi2, p_value, dof, expected = stats.chi2_contingency(observed)\n",
        "\n",
        "# Affichage des résultats\n",
        "print(\"Tableau de contingence observée :\")\n",
        "print(observed)\n",
        "\n",
        "print(\"\\nTableau de contingence attendu :\")\n",
        "print(expected)\n",
        "\n",
        "print(f\"\\nValeur du chi-deux : {chi2}\")\n",
        "print(f\"Degrés de liberté : {dof}\")\n",
        "print(f\"P-value : {p_value}\")\n",
        "\n",
        "# Conclusion\n",
        "alpha = 0.05  # Niveau de signification\n",
        "\n",
        "if p_value < alpha:\n",
        "    print(\"\\nConclusion : On rejette l'hypothèse nulle. Il y a une différence significative dans la répartition des salaires entre les hommes mariés et les hommes seuls.\")\n",
        "else:\n",
        "    print(\"\\nConclusion : On ne rejette pas l'hypothèse nulle. Il n'y a pas de différence significative dans la répartition des salaires entre les hommes mariés et les hommes seuls.\")\n"
      ]
    },
    {
      "cell_type": "markdown",
      "metadata": {
        "id": "t6njXHHJL5f1"
      },
      "source": [
        "2.8. Quelle est la variance des âges dans notre jeu de données complet ? Quelle est sa valeur pour l’échantillon ?"
      ]
    },
    {
      "cell_type": "code",
      "execution_count": null,
      "metadata": {
        "colab": {
          "base_uri": "https://localhost:8080/"
        },
        "id": "eJCgoc7XQAdW",
        "outputId": "770ed5e6-382e-4d00-9e2d-f5f5cb61aff8"
      },
      "outputs": [
        {
          "name": "stdout",
          "output_type": "stream",
          "text": [
            "Variance du jeu de données complet: 186.0614002487955\n",
            "Variance de l'échantillon: 149.9124839124837\n"
          ]
        }
      ],
      "source": [
        "var_pop_total = df['age'].var()\n",
        "var_sample = dff['age'].var(ddof=1)\n",
        "\n",
        "print(f\"Variance du jeu de données complet: {var_pop_total}\")\n",
        "print(f\"Variance de l'échantillon: {var_sample}\")"
      ]
    },
    {
      "cell_type": "markdown",
      "metadata": {
        "id": "q_9PGSj1Q9pj"
      },
      "source": [
        "2.9. Corrélation années d’éducation salaire et âge salaire"
      ]
    },
    {
      "cell_type": "code",
      "execution_count": null,
      "metadata": {
        "colab": {
          "base_uri": "https://localhost:8080/",
          "height": 247
        },
        "id": "rcnN27G9Q85r",
        "outputId": "42fadeed-03a1-4376-e54e-1185cf31607b"
      },
      "outputs": [
        {
          "name": "stderr",
          "output_type": "stream",
          "text": [
            "<ipython-input-43-358df6d0ee7f>:2: SettingWithCopyWarning: \n",
            "A value is trying to be set on a copy of a slice from a DataFrame.\n",
            "Try using .loc[row_indexer,col_indexer] = value instead\n",
            "\n",
            "See the caveats in the documentation: https://pandas.pydata.org/pandas-docs/stable/user_guide/indexing.html#returning-a-view-versus-a-copy\n",
            "  dff['salaire_coded'] = dff['salaire'].map({'<=50K': 1, '>50K': 2})\n"
          ]
        },
        {
          "data": {
            "application/vnd.google.colaboratory.intrinsic+json": {
              "summary": "{\n  \"name\": \"correlations\",\n  \"rows\": 3,\n  \"fields\": [\n    {\n      \"column\": \"age\",\n      \"properties\": {\n        \"dtype\": \"number\",\n        \"std\": 0.49666323021329456,\n        \"min\": 0.08303451096972031,\n        \"max\": 1.0,\n        \"num_unique_values\": 3,\n        \"samples\": [\n          1.0,\n          0.08303451096972031,\n          0.21075478529921896\n        ],\n        \"semantic_type\": \"\",\n        \"description\": \"\"\n      }\n    },\n    {\n      \"column\": \"nombre.education\",\n      \"properties\": {\n        \"dtype\": \"number\",\n        \"std\": 0.4722082190830413,\n        \"min\": 0.08303451096972031,\n        \"max\": 1.0,\n        \"num_unique_values\": 3,\n        \"samples\": [\n          0.08303451096972031,\n          1.0,\n          0.34575585618886073\n        ],\n        \"semantic_type\": \"\",\n        \"description\": \"\"\n      }\n    },\n    {\n      \"column\": \"salaire_coded\",\n      \"properties\": {\n        \"dtype\": \"number\",\n        \"std\": 0.4221312390281413,\n        \"min\": 0.21075478529921896,\n        \"max\": 1.0,\n        \"num_unique_values\": 3,\n        \"samples\": [\n          0.21075478529921896,\n          0.34575585618886073,\n          1.0\n        ],\n        \"semantic_type\": \"\",\n        \"description\": \"\"\n      }\n    }\n  ]\n}",
              "type": "dataframe",
              "variable_name": "correlations"
            },
            "text/html": [
              "\n",
              "  <div id=\"df-e9ec40dd-b150-4abd-a968-022edb6bc090\" class=\"colab-df-container\">\n",
              "    <div>\n",
              "<style scoped>\n",
              "    .dataframe tbody tr th:only-of-type {\n",
              "        vertical-align: middle;\n",
              "    }\n",
              "\n",
              "    .dataframe tbody tr th {\n",
              "        vertical-align: top;\n",
              "    }\n",
              "\n",
              "    .dataframe thead th {\n",
              "        text-align: right;\n",
              "    }\n",
              "</style>\n",
              "<table border=\"1\" class=\"dataframe\">\n",
              "  <thead>\n",
              "    <tr style=\"text-align: right;\">\n",
              "      <th></th>\n",
              "      <th>age</th>\n",
              "      <th>nombre.education</th>\n",
              "      <th>salaire_coded</th>\n",
              "    </tr>\n",
              "  </thead>\n",
              "  <tbody>\n",
              "    <tr>\n",
              "      <th>age</th>\n",
              "      <td>1.000000</td>\n",
              "      <td>0.083035</td>\n",
              "      <td>0.210755</td>\n",
              "    </tr>\n",
              "    <tr>\n",
              "      <th>nombre.education</th>\n",
              "      <td>0.083035</td>\n",
              "      <td>1.000000</td>\n",
              "      <td>0.345756</td>\n",
              "    </tr>\n",
              "    <tr>\n",
              "      <th>salaire_coded</th>\n",
              "      <td>0.210755</td>\n",
              "      <td>0.345756</td>\n",
              "      <td>1.000000</td>\n",
              "    </tr>\n",
              "  </tbody>\n",
              "</table>\n",
              "</div>\n",
              "    <div class=\"colab-df-buttons\">\n",
              "\n",
              "  <div class=\"colab-df-container\">\n",
              "    <button class=\"colab-df-convert\" onclick=\"convertToInteractive('df-e9ec40dd-b150-4abd-a968-022edb6bc090')\"\n",
              "            title=\"Convert this dataframe to an interactive table.\"\n",
              "            style=\"display:none;\">\n",
              "\n",
              "  <svg xmlns=\"http://www.w3.org/2000/svg\" height=\"24px\" viewBox=\"0 -960 960 960\">\n",
              "    <path d=\"M120-120v-720h720v720H120Zm60-500h600v-160H180v160Zm220 220h160v-160H400v160Zm0 220h160v-160H400v160ZM180-400h160v-160H180v160Zm440 0h160v-160H620v160ZM180-180h160v-160H180v160Zm440 0h160v-160H620v160Z\"/>\n",
              "  </svg>\n",
              "    </button>\n",
              "\n",
              "  <style>\n",
              "    .colab-df-container {\n",
              "      display:flex;\n",
              "      gap: 12px;\n",
              "    }\n",
              "\n",
              "    .colab-df-convert {\n",
              "      background-color: #E8F0FE;\n",
              "      border: none;\n",
              "      border-radius: 50%;\n",
              "      cursor: pointer;\n",
              "      display: none;\n",
              "      fill: #1967D2;\n",
              "      height: 32px;\n",
              "      padding: 0 0 0 0;\n",
              "      width: 32px;\n",
              "    }\n",
              "\n",
              "    .colab-df-convert:hover {\n",
              "      background-color: #E2EBFA;\n",
              "      box-shadow: 0px 1px 2px rgba(60, 64, 67, 0.3), 0px 1px 3px 1px rgba(60, 64, 67, 0.15);\n",
              "      fill: #174EA6;\n",
              "    }\n",
              "\n",
              "    .colab-df-buttons div {\n",
              "      margin-bottom: 4px;\n",
              "    }\n",
              "\n",
              "    [theme=dark] .colab-df-convert {\n",
              "      background-color: #3B4455;\n",
              "      fill: #D2E3FC;\n",
              "    }\n",
              "\n",
              "    [theme=dark] .colab-df-convert:hover {\n",
              "      background-color: #434B5C;\n",
              "      box-shadow: 0px 1px 3px 1px rgba(0, 0, 0, 0.15);\n",
              "      filter: drop-shadow(0px 1px 2px rgba(0, 0, 0, 0.3));\n",
              "      fill: #FFFFFF;\n",
              "    }\n",
              "  </style>\n",
              "\n",
              "    <script>\n",
              "      const buttonEl =\n",
              "        document.querySelector('#df-e9ec40dd-b150-4abd-a968-022edb6bc090 button.colab-df-convert');\n",
              "      buttonEl.style.display =\n",
              "        google.colab.kernel.accessAllowed ? 'block' : 'none';\n",
              "\n",
              "      async function convertToInteractive(key) {\n",
              "        const element = document.querySelector('#df-e9ec40dd-b150-4abd-a968-022edb6bc090');\n",
              "        const dataTable =\n",
              "          await google.colab.kernel.invokeFunction('convertToInteractive',\n",
              "                                                    [key], {});\n",
              "        if (!dataTable) return;\n",
              "\n",
              "        const docLinkHtml = 'Like what you see? Visit the ' +\n",
              "          '<a target=\"_blank\" href=https://colab.research.google.com/notebooks/data_table.ipynb>data table notebook</a>'\n",
              "          + ' to learn more about interactive tables.';\n",
              "        element.innerHTML = '';\n",
              "        dataTable['output_type'] = 'display_data';\n",
              "        await google.colab.output.renderOutput(dataTable, element);\n",
              "        const docLink = document.createElement('div');\n",
              "        docLink.innerHTML = docLinkHtml;\n",
              "        element.appendChild(docLink);\n",
              "      }\n",
              "    </script>\n",
              "  </div>\n",
              "\n",
              "\n",
              "<div id=\"df-cf117569-04af-447e-af98-4ad232b1815d\">\n",
              "  <button class=\"colab-df-quickchart\" onclick=\"quickchart('df-cf117569-04af-447e-af98-4ad232b1815d')\"\n",
              "            title=\"Suggest charts\"\n",
              "            style=\"display:none;\">\n",
              "\n",
              "<svg xmlns=\"http://www.w3.org/2000/svg\" height=\"24px\"viewBox=\"0 0 24 24\"\n",
              "     width=\"24px\">\n",
              "    <g>\n",
              "        <path d=\"M19 3H5c-1.1 0-2 .9-2 2v14c0 1.1.9 2 2 2h14c1.1 0 2-.9 2-2V5c0-1.1-.9-2-2-2zM9 17H7v-7h2v7zm4 0h-2V7h2v10zm4 0h-2v-4h2v4z\"/>\n",
              "    </g>\n",
              "</svg>\n",
              "  </button>\n",
              "\n",
              "<style>\n",
              "  .colab-df-quickchart {\n",
              "      --bg-color: #E8F0FE;\n",
              "      --fill-color: #1967D2;\n",
              "      --hover-bg-color: #E2EBFA;\n",
              "      --hover-fill-color: #174EA6;\n",
              "      --disabled-fill-color: #AAA;\n",
              "      --disabled-bg-color: #DDD;\n",
              "  }\n",
              "\n",
              "  [theme=dark] .colab-df-quickchart {\n",
              "      --bg-color: #3B4455;\n",
              "      --fill-color: #D2E3FC;\n",
              "      --hover-bg-color: #434B5C;\n",
              "      --hover-fill-color: #FFFFFF;\n",
              "      --disabled-bg-color: #3B4455;\n",
              "      --disabled-fill-color: #666;\n",
              "  }\n",
              "\n",
              "  .colab-df-quickchart {\n",
              "    background-color: var(--bg-color);\n",
              "    border: none;\n",
              "    border-radius: 50%;\n",
              "    cursor: pointer;\n",
              "    display: none;\n",
              "    fill: var(--fill-color);\n",
              "    height: 32px;\n",
              "    padding: 0;\n",
              "    width: 32px;\n",
              "  }\n",
              "\n",
              "  .colab-df-quickchart:hover {\n",
              "    background-color: var(--hover-bg-color);\n",
              "    box-shadow: 0 1px 2px rgba(60, 64, 67, 0.3), 0 1px 3px 1px rgba(60, 64, 67, 0.15);\n",
              "    fill: var(--button-hover-fill-color);\n",
              "  }\n",
              "\n",
              "  .colab-df-quickchart-complete:disabled,\n",
              "  .colab-df-quickchart-complete:disabled:hover {\n",
              "    background-color: var(--disabled-bg-color);\n",
              "    fill: var(--disabled-fill-color);\n",
              "    box-shadow: none;\n",
              "  }\n",
              "\n",
              "  .colab-df-spinner {\n",
              "    border: 2px solid var(--fill-color);\n",
              "    border-color: transparent;\n",
              "    border-bottom-color: var(--fill-color);\n",
              "    animation:\n",
              "      spin 1s steps(1) infinite;\n",
              "  }\n",
              "\n",
              "  @keyframes spin {\n",
              "    0% {\n",
              "      border-color: transparent;\n",
              "      border-bottom-color: var(--fill-color);\n",
              "      border-left-color: var(--fill-color);\n",
              "    }\n",
              "    20% {\n",
              "      border-color: transparent;\n",
              "      border-left-color: var(--fill-color);\n",
              "      border-top-color: var(--fill-color);\n",
              "    }\n",
              "    30% {\n",
              "      border-color: transparent;\n",
              "      border-left-color: var(--fill-color);\n",
              "      border-top-color: var(--fill-color);\n",
              "      border-right-color: var(--fill-color);\n",
              "    }\n",
              "    40% {\n",
              "      border-color: transparent;\n",
              "      border-right-color: var(--fill-color);\n",
              "      border-top-color: var(--fill-color);\n",
              "    }\n",
              "    60% {\n",
              "      border-color: transparent;\n",
              "      border-right-color: var(--fill-color);\n",
              "    }\n",
              "    80% {\n",
              "      border-color: transparent;\n",
              "      border-right-color: var(--fill-color);\n",
              "      border-bottom-color: var(--fill-color);\n",
              "    }\n",
              "    90% {\n",
              "      border-color: transparent;\n",
              "      border-bottom-color: var(--fill-color);\n",
              "    }\n",
              "  }\n",
              "</style>\n",
              "\n",
              "  <script>\n",
              "    async function quickchart(key) {\n",
              "      const quickchartButtonEl =\n",
              "        document.querySelector('#' + key + ' button');\n",
              "      quickchartButtonEl.disabled = true;  // To prevent multiple clicks.\n",
              "      quickchartButtonEl.classList.add('colab-df-spinner');\n",
              "      try {\n",
              "        const charts = await google.colab.kernel.invokeFunction(\n",
              "            'suggestCharts', [key], {});\n",
              "      } catch (error) {\n",
              "        console.error('Error during call to suggestCharts:', error);\n",
              "      }\n",
              "      quickchartButtonEl.classList.remove('colab-df-spinner');\n",
              "      quickchartButtonEl.classList.add('colab-df-quickchart-complete');\n",
              "    }\n",
              "    (() => {\n",
              "      let quickchartButtonEl =\n",
              "        document.querySelector('#df-cf117569-04af-447e-af98-4ad232b1815d button');\n",
              "      quickchartButtonEl.style.display =\n",
              "        google.colab.kernel.accessAllowed ? 'block' : 'none';\n",
              "    })();\n",
              "  </script>\n",
              "</div>\n",
              "\n",
              "  <div id=\"id_30134aab-d88c-4f68-8561-ceb07ebc8130\">\n",
              "    <style>\n",
              "      .colab-df-generate {\n",
              "        background-color: #E8F0FE;\n",
              "        border: none;\n",
              "        border-radius: 50%;\n",
              "        cursor: pointer;\n",
              "        display: none;\n",
              "        fill: #1967D2;\n",
              "        height: 32px;\n",
              "        padding: 0 0 0 0;\n",
              "        width: 32px;\n",
              "      }\n",
              "\n",
              "      .colab-df-generate:hover {\n",
              "        background-color: #E2EBFA;\n",
              "        box-shadow: 0px 1px 2px rgba(60, 64, 67, 0.3), 0px 1px 3px 1px rgba(60, 64, 67, 0.15);\n",
              "        fill: #174EA6;\n",
              "      }\n",
              "\n",
              "      [theme=dark] .colab-df-generate {\n",
              "        background-color: #3B4455;\n",
              "        fill: #D2E3FC;\n",
              "      }\n",
              "\n",
              "      [theme=dark] .colab-df-generate:hover {\n",
              "        background-color: #434B5C;\n",
              "        box-shadow: 0px 1px 3px 1px rgba(0, 0, 0, 0.15);\n",
              "        filter: drop-shadow(0px 1px 2px rgba(0, 0, 0, 0.3));\n",
              "        fill: #FFFFFF;\n",
              "      }\n",
              "    </style>\n",
              "    <button class=\"colab-df-generate\" onclick=\"generateWithVariable('correlations')\"\n",
              "            title=\"Generate code using this dataframe.\"\n",
              "            style=\"display:none;\">\n",
              "\n",
              "  <svg xmlns=\"http://www.w3.org/2000/svg\" height=\"24px\"viewBox=\"0 0 24 24\"\n",
              "       width=\"24px\">\n",
              "    <path d=\"M7,19H8.4L18.45,9,17,7.55,7,17.6ZM5,21V16.75L18.45,3.32a2,2,0,0,1,2.83,0l1.4,1.43a1.91,1.91,0,0,1,.58,1.4,1.91,1.91,0,0,1-.58,1.4L9.25,21ZM18.45,9,17,7.55Zm-12,3A5.31,5.31,0,0,0,4.9,8.1,5.31,5.31,0,0,0,1,6.5,5.31,5.31,0,0,0,4.9,4.9,5.31,5.31,0,0,0,6.5,1,5.31,5.31,0,0,0,8.1,4.9,5.31,5.31,0,0,0,12,6.5,5.46,5.46,0,0,0,6.5,12Z\"/>\n",
              "  </svg>\n",
              "    </button>\n",
              "    <script>\n",
              "      (() => {\n",
              "      const buttonEl =\n",
              "        document.querySelector('#id_30134aab-d88c-4f68-8561-ceb07ebc8130 button.colab-df-generate');\n",
              "      buttonEl.style.display =\n",
              "        google.colab.kernel.accessAllowed ? 'block' : 'none';\n",
              "\n",
              "      buttonEl.onclick = () => {\n",
              "        google.colab.notebook.generateWithVariable('correlations');\n",
              "      }\n",
              "      })();\n",
              "    </script>\n",
              "  </div>\n",
              "\n",
              "    </div>\n",
              "  </div>\n"
            ],
            "text/plain": [
              "                       age  nombre.education  salaire_coded\n",
              "age               1.000000          0.083035       0.210755\n",
              "nombre.education  0.083035          1.000000       0.345756\n",
              "salaire_coded     0.210755          0.345756       1.000000"
            ]
          },
          "execution_count": 43,
          "metadata": {},
          "output_type": "execute_result"
        }
      ],
      "source": [
        "# Codage de la colonne \"salaire\"\n",
        "dff['salaire_coded'] = dff['salaire'].map({'<=50K': 1, '>50K': 2})\n",
        "\n",
        "# Calcul des corrélations avec \"salaire_coded\"\n",
        "correlations = dff[['age', 'nombre.education', 'salaire_coded']].corr()\n",
        "\n",
        "# Afficher les corrélations\n",
        "correlations\n"
      ]
    },
    {
      "cell_type": "markdown",
      "metadata": {
        "id": "xpqNpTPlW2lc"
      },
      "source": [
        "Les corrélations calculées sont les suivantes :\n",
        "\n",
        "Corrélation entre âge et le salaire codé : 0.210\n",
        "Corrélation entre années d'éducation et le salaire codé : 0.345\n",
        "Interprétation :\n",
        "L'attribut années d'éducation est plus corrélé avec le salaire que l'attribut âge (0.345 > 0.210). Cela indique que les années d'éducation influencent davantage la valeur du salaire que l'âge"
      ]
    },
    {
      "cell_type": "markdown",
      "metadata": {
        "id": "SEXHwxJ9X8NO"
      },
      "source": [
        "2.10 Comparaison des ages\n",
        "moyens dans les groupes de femmes à salaires ≤50K et >50K, respectivement."
      ]
    },
    {
      "cell_type": "code",
      "execution_count": null,
      "metadata": {
        "colab": {
          "base_uri": "https://localhost:8080/",
          "height": 178
        },
        "id": "XdTRyqsvago6",
        "outputId": "2e688b57-6720-419c-a647-7ae0ec4963dc"
      },
      "outputs": [
        {
          "data": {
            "text/html": [
              "<div>\n",
              "<style scoped>\n",
              "    .dataframe tbody tr th:only-of-type {\n",
              "        vertical-align: middle;\n",
              "    }\n",
              "\n",
              "    .dataframe tbody tr th {\n",
              "        vertical-align: top;\n",
              "    }\n",
              "\n",
              "    .dataframe thead th {\n",
              "        text-align: right;\n",
              "    }\n",
              "</style>\n",
              "<table border=\"1\" class=\"dataframe\">\n",
              "  <thead>\n",
              "    <tr style=\"text-align: right;\">\n",
              "      <th></th>\n",
              "      <th>age</th>\n",
              "    </tr>\n",
              "    <tr>\n",
              "      <th>salaire</th>\n",
              "      <th></th>\n",
              "    </tr>\n",
              "  </thead>\n",
              "  <tbody>\n",
              "    <tr>\n",
              "      <th>&lt;=50K</th>\n",
              "      <td>38.461988</td>\n",
              "    </tr>\n",
              "    <tr>\n",
              "      <th>&gt;50K</th>\n",
              "      <td>43.155125</td>\n",
              "    </tr>\n",
              "  </tbody>\n",
              "</table>\n",
              "</div><br><label><b>dtype:</b> float64</label>"
            ],
            "text/plain": [
              "salaire\n",
              "<=50K    38.461988\n",
              ">50K     43.155125\n",
              "Name: age, dtype: float64"
            ]
          },
          "execution_count": 44,
          "metadata": {},
          "output_type": "execute_result"
        }
      ],
      "source": [
        "# Filtrer les données pour les femmes uniquement\n",
        "women_data = dff[dff['sexe'] == 'Feminin']\n",
        "\n",
        "# Calcul des âges moyens pour les deux groupes de salaire\n",
        "average_age_women = women_data.groupby('salaire')['age'].mean()\n",
        "\n",
        "# Afficher les âges moyens\n",
        "average_age_women\n"
      ]
    },
    {
      "cell_type": "markdown",
      "metadata": {
        "id": "LkGsnNh-asEg"
      },
      "source": [
        "2.11. Différence entre les écarts types des heures par semaine pour le jeux complet et pour l’échantillon"
      ]
    },
    {
      "cell_type": "code",
      "execution_count": null,
      "metadata": {
        "colab": {
          "base_uri": "https://localhost:8080/"
        },
        "id": "lXGwDpMTbGgS",
        "outputId": "31dc6e1b-1b31-4c4c-adb6-dd0b12005142"
      },
      "outputs": [
        {
          "data": {
            "text/plain": [
              "(12.347428681730833, 11.724674593989215, 0.6227540877416171)"
            ]
          },
          "execution_count": 4,
          "metadata": {},
          "output_type": "execute_result"
        }
      ],
      "source": [
        "import numpy as np\n",
        "\n",
        "# Calcul de l'écart type pour le jeu de données complet\n",
        "std_full = df['heures.par.semaine'].std()\n",
        "\n",
        "# Calcul de l'écart type pour l'échantillon\n",
        "std_sample = dff['heures.par.semaine'].std()\n",
        "\n",
        "# Différence entre les écarts types\n",
        "std_difference = std_full - std_sample\n",
        "\n",
        "std_full, std_sample, std_difference\n"
      ]
    },
    {
      "cell_type": "markdown",
      "metadata": {
        "id": "YVsPa0U2d_qU"
      },
      "source": [
        "# **Partie 3: Tests d’hypothèses**\n",
        "\n",
        "3.1. z-test avec les données suivante:  **population = échantillon**, **écart type de la population = 12,35** ,**niveau de signification = 5%** et **x_bar = Moyenne des heures de travail pour l'échantillon**\n",
        "- H0(Hypothèse nulle) : La moyenne des heures travaillées par semaine dans la population est inférieure ou égale à 40 heures (μ≤40).\n",
        "\n",
        "- H1(Hypothèse alternative) : La moyenne des heures travaillées par semaine dans la population est supérieure à 40 heures (μ>40).\n"
      ]
    },
    {
      "cell_type": "code",
      "execution_count": null,
      "metadata": {
        "colab": {
          "base_uri": "https://localhost:8080/"
        },
        "id": "ewhDP57Zkl_H",
        "outputId": "2875897d-0852-491e-9452-f57ab9d71fb5"
      },
      "outputs": [
        {
          "name": "stdout",
          "output_type": "stream",
          "text": [
            "Z-score : 20.51\n",
            "P-value : 0.0000\n",
            "On rejette l'hypothèse nulle H0 : la moyenne des heures travaillées est significativement supérieure à 40.\n"
          ]
        }
      ],
      "source": [
        "import math\n",
        "from scipy.stats import norm\n",
        "\n",
        "# Données\n",
        "n = 3256  # Taille de l'échantillon\n",
        "sigma = 12.35  # Écart-type de la population\n",
        "mu_0 = 40  # Moyenne hypothétique\n",
        "x_bar = dff['heures.par.semaine'].mean()  # Moyenne observée dans l'échantillon\n",
        "\n",
        "\n",
        "# Calcul du z-score\n",
        "z = (x_bar - mu_0) / (sigma / math.sqrt(n))\n",
        "\n",
        "# Calcul du p-value\n",
        "p_value = 1 - norm.cdf(z)\n",
        "\n",
        "# Résultats\n",
        "print(f\"Z-score : {z:.2f}\")\n",
        "print(f\"P-value : {p_value:.4f}\")\n",
        "\n",
        "# Conclusion\n",
        "if p_value < 0.05:\n",
        "    print(\"On rejette l'hypothèse nulle H0 : la moyenne des heures travaillées est significativement supérieure à 40.\")\n",
        "else:\n",
        "    print(\"On ne peut pas rejeter l'hypothèse nulle H0 : il n'y a pas de preuve suffisante que la moyenne dépasse 40.\")\n"
      ]
    },
    {
      "cell_type": "markdown",
      "metadata": {
        "id": "etCj5RMKpUCx"
      },
      "source": [
        "3.2.  z-test avec les données suivante:  **population = les femmes de l'échantillon**, **écart type de la population = écart type de population feminine** ,**niveau de signification = 10%** et **x_bar = Moyenne des heures de travail pour les femmes **\n",
        "\n",
        "- H0(Hypothèse nulle) : La moyenne des heures travaillées par semaine pour les femmes est inférieure ou égale à 40 heures (μ≤40).\n",
        "\n",
        "- H1(Hypothèse alternative) : La moyenne des heures travaillées par semaine pour les femmes est supérieure à 40 heures (μ>40)."
      ]
    },
    {
      "cell_type": "code",
      "execution_count": null,
      "metadata": {
        "colab": {
          "base_uri": "https://localhost:8080/"
        },
        "id": "gLowxIHkpWp_",
        "outputId": "82a35374-56a4-46da-dca4-f5caf83381f4"
      },
      "outputs": [
        {
          "name": "stdout",
          "output_type": "stream",
          "text": [
            "Z-score : -2.16\n",
            "P-value : 0.9847\n",
            "On ne peut pas rejeter l'hypothèse nulle H0 : il n'y a pas de preuve suffisante que les femmes travaillent plus de 40 heures par semaine.\n"
          ]
        }
      ],
      "source": [
        "import math\n",
        "from scipy.stats import norm\n",
        "\n",
        "# Données\n",
        "population_feminine = dff[dff['sexe'] == 'Feminin'] # Population feminine\n",
        "n = dff[dff['sexe']=='Feminin'].shape[0]  # Taille population feminine\n",
        "sigma = population_feminine['heures.par.semaine'].std()  # Écart-type des heures de la population\n",
        "mu_0 = 40  # Moyenne hypothétique\n",
        "x_bar = population_feminine['heures.par.semaine'].mean()  # Moyenne observée pour les femmes (à remplacer par ta valeur)\n",
        "\n",
        "\n",
        "# Calcul du z-score\n",
        "z = (x_bar - mu_0) / (sigma / math.sqrt(n))\n",
        "\n",
        "# Calcul du p-value\n",
        "p_value = 1 - norm.cdf(z)\n",
        "\n",
        "# Résultats\n",
        "print(f\"Z-score : {z:.2f}\")\n",
        "print(f\"P-value : {p_value:.4f}\")\n",
        "\n",
        "# Conclusion\n",
        "if p_value < 0.10:\n",
        "    print(\"On rejette l'hypothèse nulle H0 : les femmes travaillent, en moyenne, plus de 40 heures par semaine.\")\n",
        "else:\n",
        "    print(\"On ne peut pas rejeter l'hypothèse nulle H0 : il n'y a pas de preuve suffisante que les femmes travaillent plus de 40 heures par semaine.\")\n"
      ]
    },
    {
      "cell_type": "markdown",
      "metadata": {
        "id": "wds-ok_rv0NC"
      },
      "source": [
        "3.3. z-test avec les données suivante:  **taille = les femmes de l'échantillon**, **écart type de la population = 0.43** ,**niveau de signification = 5%**,  **mu_population = Moyenne des salaires pour l'echantillon**  et **x_bar = Moyenne des salaires pour les femmes**\n",
        "\n",
        "- H0 (Hypothèse nulle) : Le salaire moyen des femmes est égal à celui de la population (μ femmes = μ population).\n",
        "\n",
        "- H1 (Hypothèse alternative) : Le salaire moyen des femmes est différent de celui de la population (μ femmes = μ population)."
      ]
    },
    {
      "cell_type": "code",
      "execution_count": null,
      "metadata": {
        "colab": {
          "base_uri": "https://localhost:8080/"
        },
        "id": "G8214wa2v5VZ",
        "outputId": "806c4918-413f-414e-924d-95609f89a984"
      },
      "outputs": [
        {
          "name": "stdout",
          "output_type": "stream",
          "text": [
            "Z-score : -11.93\n",
            "P-value : 0.0000\n",
            "On rejette l'hypothèse nulle H0 : il existe un écart significatif entre le salaire moyen de la population et celui des femmes.\n"
          ]
        },
        {
          "name": "stderr",
          "output_type": "stream",
          "text": [
            "<ipython-input-14-0bfa917ba797>:5: SettingWithCopyWarning: \n",
            "A value is trying to be set on a copy of a slice from a DataFrame.\n",
            "Try using .loc[row_indexer,col_indexer] = value instead\n",
            "\n",
            "See the caveats in the documentation: https://pandas.pydata.org/pandas-docs/stable/user_guide/indexing.html#returning-a-view-versus-a-copy\n",
            "  dff['salaire_code'] = dff['salaire'].apply(lambda x: 1 if x == '<=50K' else 2)\n"
          ]
        }
      ],
      "source": [
        "import math\n",
        "from scipy.stats import norm\n",
        "\n",
        "#Encodage\n",
        "dff['salaire_code'] = dff['salaire'].apply(lambda x: 1 if x == '<=50K' else 2)\n",
        "\n",
        "# Données\n",
        "mu_population = dff['salaire_code'].mean()  # Moyenne salaire de la population\n",
        "x_bar_femmes = dff[dff['sexe'] == 'Feminin']['salaire_code'].mean() # Moyenne salaire des femmes\n",
        "sigma = 0.43  # Écart-type de la population\n",
        "n =dff[dff['sexe'] == 'Feminin'].shape[0]  # Taille de l'échantillon des femmes\n",
        "\n",
        "# Calcul du z-score\n",
        "z = (x_bar_femmes - mu_population) / (sigma / math.sqrt(n))\n",
        "\n",
        "# Calcul du p-value (test bilatéral)\n",
        "p_value = 2 * (1 - norm.cdf(abs(z)))\n",
        "\n",
        "# Résultats\n",
        "print(f\"Z-score : {z:.2f}\")\n",
        "print(f\"P-value : {p_value:.4f}\")\n",
        "\n",
        "# Conclusion\n",
        "if p_value < 0.05:\n",
        "    print(\"On rejette l'hypothèse nulle H0 : il existe un écart significatif entre le salaire moyen de la population et celui des femmes.\")\n",
        "else:\n",
        "    print(\"On ne peut pas rejeter l'hypothèse nulle H0 : il n'y a pas de preuve suffisante d'un écart significatif.\")\n"
      ]
    }
  ],
  "metadata": {
    "colab": {
      "provenance": []
    },
    "kernelspec": {
      "display_name": "Python 3",
      "name": "python3"
    },
    "language_info": {
      "name": "python"
    }
  },
  "nbformat": 4,
  "nbformat_minor": 0
}
